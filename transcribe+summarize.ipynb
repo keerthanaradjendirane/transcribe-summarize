{
 "cells": [
  {
   "cell_type": "code",
   "execution_count": null,
   "id": "42c17c1a",
   "metadata": {},
   "outputs": [
    {
     "name": "stdout",
     "output_type": "stream",
     "text": [
      "Speak now...\n",
      "Transcription: Good morning everyone. Today let us learn about what is expert system? Expert system is a computer program that is designed to solve complex problems under private decision making ability. Like human expert, it performs this by extracting the knowledge from its knowledge base using reasoning and inference rules according to the user queries. The expert system is a part of a and the first expert system was developed in the year 1970, which is the first successful approach of artificial intelligence. It solves the most complex issues as an expert system by extracting the knowledge stored in the knowledge base. The system helps in decision making of complex problems using both facts and heuristics like human expert. It is called so because it contains the expert knowledge of a specific domain and can solve any complex problem of a particular domain, that of a particular domain. These system are designed for a specific domain, system, medicine, science, etcetera. The performance of the expert system is based on experts knowledge stored in the knowledge base and the more knowledge stored in the knowledge base and the more system improves the performance. The common examples of expert system suggestion of spelling errors while typing search Google box below is a block diagram representation of expert system. Below are some of the popular examples of expert system dental noise and Pexix and cadet characteristics of expert system high performance, understandable, reliable and high responsive components of expert system user interface, inference engine or knowledge base. Thank you.\n"
     ]
    }
   ],
   "source": [
    "import tempfile\n",
    "import speech_recognition as sr\n",
    "import assemblyai as aai\n",
    "\n",
    "# Initialize the recognizer\n",
    "recognizer = sr.Recognizer()\n",
    "\n",
    "# Set up AssemblyAI API key\n",
    "aai.settings.api_key = \"dc62769570b1402d97f6ce79c836cd4d\"\n",
    "transcriber = aai.Transcriber()\n",
    "\n",
    "# Function to continuously convert speech to text and print in real-time\n",
    "def speech_to_text():\n",
    "    print(\"Speak now...\")\n",
    "    with sr.Microphone() as source:\n",
    "        while True:\n",
    "            audio = recognizer.listen(source)  # Listen to the microphone input\n",
    "\n",
    "            try:\n",
    "                # Save the audio to a temporary WAV file\n",
    "                with tempfile.NamedTemporaryFile(delete=False) as temp_file:\n",
    "                    temp_filename = temp_file.name\n",
    "                    recognizer.adjust_for_ambient_noise(source)\n",
    "                    temp_file.write(audio.get_wav_data())\n",
    "\n",
    "                # Transcribe the temporary WAV file using AssemblyAI\n",
    "                transcript = transcriber.transcribe(temp_filename)\n",
    "\n",
    "                # Print the transcribed text in real-time\n",
    "                print(\"Transcription:\", transcript.text)\n",
    "\n",
    "            except sr.UnknownValueError:\n",
    "                # Handle unrecognized speech\n",
    "                pass\n",
    "            except sr.RequestError as e:\n",
    "                # Handle errors from the recognition service\n",
    "                print(f\"Could not request results from AssemblyAI service; {e}\")\n",
    "\n",
    "# Call the function to start listening and transcribing in real-time\n",
    "speech_to_text()\n"
   ]
  },
  {
   "cell_type": "code",
   "execution_count": null,
   "id": "a108fefd",
   "metadata": {},
   "outputs": [
    {
     "name": "stdout",
     "output_type": "stream",
     "text": [
      "Speak now...\n",
      "Summarized Text: According to the user reports, the expert system is a part of APA and the first expert system was developed in 1970, which is the first successful approach of article centralizations. The more knowledge stored in the knowledge base, the more the system improves its performance. Expert system dendrite mice and Pexx and characteristics of expert system high performance, understandable, reliable, highly responsive components of expert system user interface inference engineer knowledge base that's all.\n"
     ]
    }
   ],
   "source": [
    "\n",
    "import tempfile\n",
    "import speech_recognition as sr\n",
    "from sumy.parsers.plaintext import PlaintextParser\n",
    "from sumy.nlp.tokenizers import Tokenizer\n",
    "from sumy.summarizers.text_rank import TextRankSummarizer\n",
    "import assemblyai as aai\n",
    "\n",
    "# Initialize the recognizer\n",
    "recognizer = sr.Recognizer()\n",
    "\n",
    "# Set up AssemblyAI API key\n",
    "aai.settings.api_key = \"dc62769570b1402d97f6ce79c836cd4d\"\n",
    "transcriber = aai.Transcriber()\n",
    "\n",
    "def text_summarizer(text, sentences_count=3):\n",
    "    parser = PlaintextParser.from_string(text, Tokenizer(\"english\"))\n",
    "    summarizer = TextRankSummarizer()\n",
    "    summary = summarizer(parser.document, sentences_count)\n",
    "    summarized_text = \" \".join([str(sentence) for sentence in summary])\n",
    "    return summarized_text\n",
    "\n",
    "# Function to continuously convert speech to text, summarize it, and print in real-time\n",
    "def speech_to_summarized_text():\n",
    "    print(\"Speak now...\")\n",
    "    with sr.Microphone() as source:\n",
    "        while True:\n",
    "            audio = recognizer.listen(source)  # Listen to the microphone input\n",
    "\n",
    "            try:\n",
    "                # Save the audio to a temporary WAV file\n",
    "                with tempfile.NamedTemporaryFile(delete=False) as temp_file:\n",
    "                    temp_filename = temp_file.name\n",
    "                    recognizer.adjust_for_ambient_noise(source)\n",
    "                    temp_file.write(audio.get_wav_data())\n",
    "\n",
    "                # Transcribe the temporary WAV file using AssemblyAI\n",
    "                transcript = transcriber.transcribe(temp_filename)\n",
    "\n",
    "                # Summarize the transcribed text\n",
    "                summarized_text = text_summarizer(transcript.text)\n",
    "\n",
    "                # Print the summarized text in real-time\n",
    "                print(\"Summarized Text:\", summarized_text)\n",
    "\n",
    "            except sr.UnknownValueError:\n",
    "                # Handle unrecognized speech\n",
    "                pass\n",
    "            except sr.RequestError as e:\n",
    "                # Handle errors from the recognition service\n",
    "                print(f\"Could not request results from AssemblyAI service; {e}\")\n",
    "\n",
    "# Call the function to start listening, transcribing, summarizing, and printing in real-time\n",
    "speech_to_summarized_text()"
   ]
  },
  {
   "cell_type": "code",
   "execution_count": null,
   "id": "18833144",
   "metadata": {},
   "outputs": [],
   "source": []
  }
 ],
 "metadata": {
  "kernelspec": {
   "display_name": "Python 3 (ipykernel)",
   "language": "python",
   "name": "python3"
  },
  "language_info": {
   "codemirror_mode": {
    "name": "ipython",
    "version": 3
   },
   "file_extension": ".py",
   "mimetype": "text/x-python",
   "name": "python",
   "nbconvert_exporter": "python",
   "pygments_lexer": "ipython3",
   "version": "3.11.5"
  }
 },
 "nbformat": 4,
 "nbformat_minor": 5
}
